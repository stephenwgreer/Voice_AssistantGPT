{
 "cells": [
  {
   "cell_type": "code",
   "execution_count": 1,
   "metadata": {},
   "outputs": [],
   "source": [
    "import os\n",
    "import openai\n",
    "from typing import List\n",
    "from pydantic import BaseModel, Field\n",
    "from langchain.utils.openai_functions import convert_pydantic_to_openai_function\n",
    "from langchain.prompts import ChatPromptTemplate\n",
    "from langchain.chat_models import ChatOpenAI\n",
    "from langchain.output_parsers.openai_functions import JsonOutputFunctionsParser\n",
    "from langchain.agents import tool\n",
    "import requests\n",
    "import datetime\n",
    "from langchain.tools.render import format_tool_to_openai_function\n",
    "from langchain.chains.openai_functions.openapi import openapi_spec_to_openai_fn\n",
    "from langchain.utilities.openapi import OpenAPISpec\n",
    "from langchain.agents.output_parsers import OpenAIFunctionsAgentOutputParser\n",
    "import wikipedia\n",
    "from langchain.prompts import MessagesPlaceholder\n",
    "from langchain.agents.format_scratchpad import format_to_openai_functions\n",
    "from langchain.schema.runnable import RunnablePassthrough\n",
    "from langchain.schema.agent import AgentFinish\n",
    "from langchain.agents import AgentExecutor\n",
    "from langchain.memory import ConversationBufferMemory\n",
    "import param\n",
    "import json\n",
    "\n",
    "from dotenv import load_dotenv\n",
    "\n",
    "load_dotenv()\n",
    "openai.api_key = os.environ['OPENAI_API_KEY']"
   ]
  },
  {
   "cell_type": "code",
   "execution_count": 2,
   "metadata": {},
   "outputs": [],
   "source": [
    "### Functions\n",
    "\n",
    "class OpenMeteoInput(BaseModel):\n",
    "    latitude: float = Field(..., description=\"Latitude of the location to fetch weather data for\")\n",
    "    longitude: float = Field(..., description=\"Longitude of the location to fetch weather data for\")\n",
    "\n",
    "@tool(args_schema=OpenMeteoInput)\n",
    "def get_current_temperature(latitude: float, longitude: float) -> dict:\n",
    "    \"\"\"Fetch current temperature for given coordinates.\"\"\"\n",
    "    \n",
    "    BASE_URL = \"https://api.open-meteo.com/v1/forecast\"\n",
    "    \n",
    "    # Parameters for the request\n",
    "    params = {\n",
    "        'latitude': latitude,\n",
    "        'longitude': longitude,\n",
    "        'hourly': 'temperature_2m',\n",
    "        'forecast_days': 1,\n",
    "        'temperature_unit': 'fahrenheit',\n",
    "    }\n",
    "\n",
    "    # Make the request\n",
    "    response = requests.get(BASE_URL, params=params)\n",
    "    \n",
    "    if response.status_code == 200:\n",
    "        results = response.json()\n",
    "    else:\n",
    "        raise Exception(f\"API Request failed with status code: {response.status_code}\")\n",
    "\n",
    "    current_utc_time = datetime.datetime.utcnow()\n",
    "    time_list = [datetime.datetime.fromisoformat(time_str.replace('Z', '+00:00')) for time_str in results['hourly']['time']]\n",
    "    temperature_list = results['hourly']['temperature_2m']\n",
    "    \n",
    "    closest_time_index = min(range(len(time_list)), key=lambda i: abs(time_list[i] - current_utc_time))\n",
    "    current_temperature = temperature_list[closest_time_index]\n",
    "    \n",
    "    return f'The current temperature is {current_temperature}°F'\n",
    "\n",
    "@tool\n",
    "def lights_on(query: str) -> str:\n",
    "    \"\"\"This tools turns the lights on. \n",
    "    This command will be used if a user asks to turn on or off the lights.\n",
    "    If this returns True, the response back will ALWAYS be 'The lights are on'\n",
    "    If returns false, the response will be 'The lights are off'\n",
    "    The Query arguments must either be: \"turn on the lights\" or \"turn off the lights\"\n",
    "    \"\"\"\n",
    "    if query == 'turn on the lights':\n",
    "        return f\"Lights are on is: True\"\n",
    "    else:\n",
    "        return f\"Lights are off is: True\""
   ]
  },
  {
   "cell_type": "code",
   "execution_count": 9,
   "metadata": {},
   "outputs": [],
   "source": [
    "from utils.scrape_method import *\n",
    "\n",
    "def scrape_news() -> str:\n",
    "    \"\"\"\n",
    "    Scrape news from the OCC website.\n",
    "    Any request that is specifically asking about a person, place, or thing will be searched on Wikipedia.\n",
    "    I want you to only mention the title of the news article. \n",
    "    Keep the link but do not read it in the response.\n",
    "    \"\"\"\n",
    "    existing_links = load_existing_links()\n",
    "    new_links =[]\n",
    "    if not os.path.exists('utils/links.csv'):\n",
    "        with open('links.csv', 'w', newline='', encoding='utf-8') as csvfile:  # Just write headers\n",
    "            writer = csv.writer(csvfile)\n",
    "            writer.writerow([\"Title\", \"Link\", \"Source\"])\n",
    "\n",
    "    scraper = WebScraper(OccGovScraper())\n",
    "    occ_links = scraper.execute_scrape()\n",
    "    new_occ_links = get_new_links(existing_links, occ_links)\n",
    "    \n",
    "    if new_occ_links:\n",
    "        print(\"\\033[1m\\033[94mNew OCC Links:\\033[0m\")\n",
    "        news_dict = {}\n",
    "        for title, link in new_occ_links:\n",
    "            news_dict[title] = link\n",
    "            print(f\"{title}: {link}\")\n",
    "        write_to_csv(new_occ_links, scraper.get_source_name())\n",
    "        return news_dict\n",
    "    else:\n",
    "        print(\"\\033[1m\\033[94mNo new OCC links found.\\033[0m\")\n",
    "        return \"No new OCC links found.\""
   ]
  },
  {
   "cell_type": "code",
   "execution_count": 11,
   "metadata": {},
   "outputs": [
    {
     "name": "stdout",
     "output_type": "stream",
     "text": [
      "\u001b[1m\u001b[94mNew OCC Links:\u001b[0m\n",
      "OCC Hosts Public Appraisal Subcommittee Hearing on Appraisal Bias: https://www.occ.gov/news-events/events/files/event-other-event-occ-hearing-appraisal-bias.html\n"
     ]
    },
    {
     "data": {
      "text/plain": [
       "{'OCC Hosts Public Appraisal Subcommittee Hearing on Appraisal Bias': 'https://www.occ.gov/news-events/events/files/event-other-event-occ-hearing-appraisal-bias.html'}"
      ]
     },
     "execution_count": 11,
     "metadata": {},
     "output_type": "execute_result"
    }
   ],
   "source": [
    "scrape_news()"
   ]
  },
  {
   "cell_type": "code",
   "execution_count": 8,
   "metadata": {},
   "outputs": [
    {
     "name": "stdout",
     "output_type": "stream",
     "text": [
      "\u001b[1m\u001b[94mNo new OCC links found.\u001b[0m\n"
     ]
    },
    {
     "data": {
      "text/plain": [
       "str"
      ]
     },
     "execution_count": 8,
     "metadata": {},
     "output_type": "execute_result"
    }
   ],
   "source": [
    "type(scrape_news())"
   ]
  }
 ],
 "metadata": {
  "kernelspec": {
   "display_name": "Python 3",
   "language": "python",
   "name": "python3"
  },
  "language_info": {
   "codemirror_mode": {
    "name": "ipython",
    "version": 3
   },
   "file_extension": ".py",
   "mimetype": "text/x-python",
   "name": "python",
   "nbconvert_exporter": "python",
   "pygments_lexer": "ipython3",
   "version": "3.10.11"
  }
 },
 "nbformat": 4,
 "nbformat_minor": 2
}
