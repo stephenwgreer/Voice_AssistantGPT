{
 "cells": [
  {
   "cell_type": "code",
   "execution_count": 1,
   "metadata": {},
   "outputs": [],
   "source": [
    "import os\n",
    "from playsound import playsound\n",
    "from dotenv import load_dotenv\n",
    "import json\n",
    "\n",
    "import pvporcupine\n",
    "import openai\n",
    "from langchain.tools.render import format_tool_to_openai_function\n",
    "\n",
    "from utils.bot_tools import get_current_temperature, lights_on, search_wikipedia, scrape_news\n",
    "\n",
    "load_dotenv()\n",
    "openai.api_key = os.environ['OPENAI_API_KEY']\n",
    "\n",
    "\n",
    "delimiter = \"####\"\n",
    "\n",
    "AGENT_CONTEXT=\"\"\"\n",
    "You a use a bot which can converse or use specific tools. \n",
    "If a question is asked which uses a tool, don't assume--ask clarifying questions where needed.\n",
    "When approriate ask questions at the end of responses to keep the conversation going. \n",
    "Keep answers short--only 3-4 sentences max.\n",
    "\"\"\"\n",
    "\n",
    "\n",
    "tools = [get_current_temperature, lights_on, search_wikipedia]\n",
    "functions = [format_tool_to_openai_function(f) for f in tools]"
   ]
  },
  {
   "cell_type": "code",
   "execution_count": null,
   "metadata": {},
   "outputs": [],
   "source": [
    "messages=[\n",
    "    {\"role\": \"system\", \"content\": AGENT_CONTEXT},\n",
    "    # {\"role\": \"assistant\", \"content\":\"\"}\n",
    "    # {\"role\": \"function\", \"content\":\"\"}\n",
    "    ]"
   ]
  },
  {
   "cell_type": "code",
   "execution_count": null,
   "metadata": {},
   "outputs": [],
   "source": [
    "def get_completion(messages, model=\"gpt-3.5-turbo\", temperature=0,max_tokens=2000):\n",
    "\n",
    "  response = openai.ChatCompletion.create(\n",
    "    model=model,\n",
    "    temperature=temperature,\n",
    "    max_tokens=max_tokens,\n",
    "    messages=messages,\n",
    "    functions=functions\n",
    "  )\n",
    "  return response.choices[0].message"
   ]
  },
  {
   "cell_type": "code",
   "execution_count": null,
   "metadata": {},
   "outputs": [],
   "source": [
    "question = (\"What time is it?\")\n",
    "\n",
    "messages.append({'role':'user', 'content':f\"{delimiter} + {question} + {delimiter}\"})\n",
    "\n",
    "response = get_completion(messages)\n",
    "\n",
    "if response.get(\"function_call\"):\n",
    "    tools = tools\n",
    "    function_name = response[\"function_call\"][\"name\"]\n",
    "    func_to_call = next(filter(lambda x: x.name == function_name, tools), None)\n",
    "    args = json.loads(response[\"function_call\"][\"arguments\"])\n",
    "    print(args)\n",
    "    func_response = func_to_call(args)\n",
    "    messages.append({\"role\": \"function\", \"name\": function_name, \"content\": func_response})\n",
    "    function_return = get_completion(messages)\n",
    "    print(function_return.content + \"\\n\")\n",
    "\n",
    "else:\n",
    "    content = response.content\n",
    "    messages.append({\"role\": \"assistant\", \"content\":f\"{content}\"})\n",
    "    print(content + \"\\n\")"
   ]
  }
 ],
 "metadata": {
  "kernelspec": {
   "display_name": "Python 3",
   "language": "python",
   "name": "python3"
  },
  "language_info": {
   "codemirror_mode": {
    "name": "ipython",
    "version": 3
   },
   "file_extension": ".py",
   "mimetype": "text/x-python",
   "name": "python",
   "nbconvert_exporter": "python",
   "pygments_lexer": "ipython3",
   "version": "3.10.11"
  }
 },
 "nbformat": 4,
 "nbformat_minor": 2
}
